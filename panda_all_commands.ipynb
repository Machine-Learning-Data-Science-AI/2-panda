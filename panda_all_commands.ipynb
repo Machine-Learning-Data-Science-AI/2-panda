{
 "cells": [
  {
   "cell_type": "code",
   "execution_count": 3,
   "id": "cb1efb78",
   "metadata": {},
   "outputs": [],
   "source": [
    "import pandas as pd"
   ]
  },
  {
   "cell_type": "markdown",
   "id": "7eeecb26",
   "metadata": {},
   "source": [
    "## 2-main datatypes (1-D and 2-D)"
   ]
  },
  {
   "cell_type": "code",
   "execution_count": 5,
   "id": "9fd3660b",
   "metadata": {},
   "outputs": [],
   "source": [
    "# 1 - dimentional Series\n",
    "    colorNames = pd.Series([\"red\",\"blue\",\"yellow\"])"
   ]
  },
  {
   "cell_type": "code",
   "execution_count": 6,
   "id": "31345d0a",
   "metadata": {},
   "outputs": [
    {
     "data": {
      "text/plain": [
       "0       red\n",
       "1      blue\n",
       "2    yellow\n",
       "dtype: object"
      ]
     },
     "execution_count": 6,
     "metadata": {},
     "output_type": "execute_result"
    }
   ],
   "source": [
    "colorNames"
   ]
  },
  {
   "cell_type": "code",
   "execution_count": 7,
   "id": "f998d23e",
   "metadata": {},
   "outputs": [
    {
     "data": {
      "text/plain": [
       "0    muskan\n",
       "1     karan\n",
       "dtype: object"
      ]
     },
     "execution_count": 7,
     "metadata": {},
     "output_type": "execute_result"
    }
   ],
   "source": [
    "friendsName = pd.Series([\"muskan\",\"karan\"])\n",
    "friendsName"
   ]
  },
  {
   "cell_type": "code",
   "execution_count": 8,
   "id": "a603c941",
   "metadata": {},
   "outputs": [
    {
     "data": {
      "text/html": [
       "<div>\n",
       "<style scoped>\n",
       "    .dataframe tbody tr th:only-of-type {\n",
       "        vertical-align: middle;\n",
       "    }\n",
       "\n",
       "    .dataframe tbody tr th {\n",
       "        vertical-align: top;\n",
       "    }\n",
       "\n",
       "    .dataframe thead th {\n",
       "        text-align: right;\n",
       "    }\n",
       "</style>\n",
       "<table border=\"1\" class=\"dataframe\">\n",
       "  <thead>\n",
       "    <tr style=\"text-align: right;\">\n",
       "      <th></th>\n",
       "      <th>color</th>\n",
       "      <th>names</th>\n",
       "    </tr>\n",
       "  </thead>\n",
       "  <tbody>\n",
       "    <tr>\n",
       "      <th>0</th>\n",
       "      <td>red</td>\n",
       "      <td>muskan</td>\n",
       "    </tr>\n",
       "    <tr>\n",
       "      <th>1</th>\n",
       "      <td>blue</td>\n",
       "      <td>karan</td>\n",
       "    </tr>\n",
       "    <tr>\n",
       "      <th>2</th>\n",
       "      <td>yellow</td>\n",
       "      <td>NaN</td>\n",
       "    </tr>\n",
       "  </tbody>\n",
       "</table>\n",
       "</div>"
      ],
      "text/plain": [
       "    color   names\n",
       "0     red  muskan\n",
       "1    blue   karan\n",
       "2  yellow     NaN"
      ]
     },
     "execution_count": 8,
     "metadata": {},
     "output_type": "execute_result"
    }
   ],
   "source": [
    "# 2 - Dimentaional DataFrame\n",
    "data = pd.DataFrame({\"color\": colorNames,\"names\":friendsName })\n",
    "data\n"
   ]
  },
  {
   "cell_type": "markdown",
   "id": "d36c38ab",
   "metadata": {},
   "source": [
    "## importing and exporting the file"
   ]
  },
  {
   "cell_type": "code",
   "execution_count": 10,
   "id": "961ca19d",
   "metadata": {},
   "outputs": [
    {
     "data": {
      "text/html": [
       "<div>\n",
       "<style scoped>\n",
       "    .dataframe tbody tr th:only-of-type {\n",
       "        vertical-align: middle;\n",
       "    }\n",
       "\n",
       "    .dataframe tbody tr th {\n",
       "        vertical-align: top;\n",
       "    }\n",
       "\n",
       "    .dataframe thead th {\n",
       "        text-align: right;\n",
       "    }\n",
       "</style>\n",
       "<table border=\"1\" class=\"dataframe\">\n",
       "  <thead>\n",
       "    <tr style=\"text-align: right;\">\n",
       "      <th></th>\n",
       "      <th>names</th>\n",
       "      <th>roll no</th>\n",
       "      <th>fav food</th>\n",
       "      <th>grades</th>\n",
       "    </tr>\n",
       "  </thead>\n",
       "  <tbody>\n",
       "    <tr>\n",
       "      <th>0</th>\n",
       "      <td>riya</td>\n",
       "      <td>12</td>\n",
       "      <td>ice-cream</td>\n",
       "      <td>98</td>\n",
       "    </tr>\n",
       "    <tr>\n",
       "      <th>1</th>\n",
       "      <td>muskan</td>\n",
       "      <td>14</td>\n",
       "      <td>ice-cream</td>\n",
       "      <td>99</td>\n",
       "    </tr>\n",
       "    <tr>\n",
       "      <th>2</th>\n",
       "      <td>karan</td>\n",
       "      <td>1</td>\n",
       "      <td>pizza</td>\n",
       "      <td>70</td>\n",
       "    </tr>\n",
       "    <tr>\n",
       "      <th>3</th>\n",
       "      <td>ajay</td>\n",
       "      <td>2</td>\n",
       "      <td>momos</td>\n",
       "      <td>30</td>\n",
       "    </tr>\n",
       "    <tr>\n",
       "      <th>4</th>\n",
       "      <td>abhey</td>\n",
       "      <td>40</td>\n",
       "      <td>momos</td>\n",
       "      <td>50</td>\n",
       "    </tr>\n",
       "  </tbody>\n",
       "</table>\n",
       "</div>"
      ],
      "text/plain": [
       "    names  roll no   fav food   grades\n",
       "0    riya       12  ice-cream       98\n",
       "1  muskan       14  ice-cream       99\n",
       "2   karan        1      pizza       70\n",
       "3    ajay        2      momos       30\n",
       "4   abhey       40      momos       50"
      ]
     },
     "execution_count": 10,
     "metadata": {},
     "output_type": "execute_result"
    }
   ],
   "source": [
    "#import the csv file\n",
    "importdata = pd.read_csv(\"demo-data.csv\")\n",
    "importdata"
   ]
  },
  {
   "cell_type": "code",
   "execution_count": 11,
   "id": "c5859dd7",
   "metadata": {},
   "outputs": [],
   "source": [
    "#export the csv file , after manupulating\n",
    "importdata.to_csv(\"exportdata.csv\",index=False)"
   ]
  },
  {
   "cell_type": "code",
   "execution_count": 12,
   "id": "6152425d",
   "metadata": {},
   "outputs": [
    {
     "data": {
      "text/html": [
       "<div>\n",
       "<style scoped>\n",
       "    .dataframe tbody tr th:only-of-type {\n",
       "        vertical-align: middle;\n",
       "    }\n",
       "\n",
       "    .dataframe tbody tr th {\n",
       "        vertical-align: top;\n",
       "    }\n",
       "\n",
       "    .dataframe thead th {\n",
       "        text-align: right;\n",
       "    }\n",
       "</style>\n",
       "<table border=\"1\" class=\"dataframe\">\n",
       "  <thead>\n",
       "    <tr style=\"text-align: right;\">\n",
       "      <th></th>\n",
       "      <th>names</th>\n",
       "      <th>roll no</th>\n",
       "      <th>fav food</th>\n",
       "      <th>grades</th>\n",
       "    </tr>\n",
       "  </thead>\n",
       "  <tbody>\n",
       "    <tr>\n",
       "      <th>0</th>\n",
       "      <td>riya</td>\n",
       "      <td>12</td>\n",
       "      <td>ice-cream</td>\n",
       "      <td>98</td>\n",
       "    </tr>\n",
       "    <tr>\n",
       "      <th>1</th>\n",
       "      <td>muskan</td>\n",
       "      <td>14</td>\n",
       "      <td>ice-cream</td>\n",
       "      <td>99</td>\n",
       "    </tr>\n",
       "    <tr>\n",
       "      <th>2</th>\n",
       "      <td>karan</td>\n",
       "      <td>1</td>\n",
       "      <td>pizza</td>\n",
       "      <td>70</td>\n",
       "    </tr>\n",
       "    <tr>\n",
       "      <th>3</th>\n",
       "      <td>ajay</td>\n",
       "      <td>2</td>\n",
       "      <td>momos</td>\n",
       "      <td>30</td>\n",
       "    </tr>\n",
       "    <tr>\n",
       "      <th>4</th>\n",
       "      <td>abhey</td>\n",
       "      <td>40</td>\n",
       "      <td>momos</td>\n",
       "      <td>50</td>\n",
       "    </tr>\n",
       "  </tbody>\n",
       "</table>\n",
       "</div>"
      ],
      "text/plain": [
       "    names  roll no   fav food   grades\n",
       "0    riya       12  ice-cream       98\n",
       "1  muskan       14  ice-cream       99\n",
       "2   karan        1      pizza       70\n",
       "3    ajay        2      momos       30\n",
       "4   abhey       40      momos       50"
      ]
     },
     "execution_count": 12,
     "metadata": {},
     "output_type": "execute_result"
    }
   ],
   "source": [
    "exporteddata = pd.read_csv(\"exportdata.csv\")\n",
    "exporteddata"
   ]
  },
  {
   "cell_type": "markdown",
   "id": "5c7e695b",
   "metadata": {},
   "source": [
    "## Describe and show data"
   ]
  },
  {
   "cell_type": "code",
   "execution_count": 13,
   "id": "1ed588ca",
   "metadata": {},
   "outputs": [
    {
     "data": {
      "text/plain": [
       "names       object\n",
       "roll no      int64\n",
       "fav food    object\n",
       " grades      int64\n",
       "dtype: object"
      ]
     },
     "execution_count": 13,
     "metadata": {},
     "output_type": "execute_result"
    }
   ],
   "source": [
    "#Attribute (without the () braket)\n",
    "importdata.dtypes\n",
    "\n",
    "#function (with the braket)\n",
    "# importdata.to_scv()"
   ]
  },
  {
   "cell_type": "code",
   "execution_count": 14,
   "id": "5e1bf746",
   "metadata": {},
   "outputs": [
    {
     "data": {
      "text/html": [
       "<div>\n",
       "<style scoped>\n",
       "    .dataframe tbody tr th:only-of-type {\n",
       "        vertical-align: middle;\n",
       "    }\n",
       "\n",
       "    .dataframe tbody tr th {\n",
       "        vertical-align: top;\n",
       "    }\n",
       "\n",
       "    .dataframe thead th {\n",
       "        text-align: right;\n",
       "    }\n",
       "</style>\n",
       "<table border=\"1\" class=\"dataframe\">\n",
       "  <thead>\n",
       "    <tr style=\"text-align: right;\">\n",
       "      <th></th>\n",
       "      <th>names</th>\n",
       "      <th>roll no</th>\n",
       "      <th>fav food</th>\n",
       "      <th>grades</th>\n",
       "    </tr>\n",
       "  </thead>\n",
       "  <tbody>\n",
       "    <tr>\n",
       "      <th>0</th>\n",
       "      <td>riya</td>\n",
       "      <td>12</td>\n",
       "      <td>ice-cream</td>\n",
       "      <td>98</td>\n",
       "    </tr>\n",
       "    <tr>\n",
       "      <th>1</th>\n",
       "      <td>muskan</td>\n",
       "      <td>14</td>\n",
       "      <td>ice-cream</td>\n",
       "      <td>99</td>\n",
       "    </tr>\n",
       "    <tr>\n",
       "      <th>2</th>\n",
       "      <td>karan</td>\n",
       "      <td>1</td>\n",
       "      <td>pizza</td>\n",
       "      <td>70</td>\n",
       "    </tr>\n",
       "    <tr>\n",
       "      <th>3</th>\n",
       "      <td>ajay</td>\n",
       "      <td>2</td>\n",
       "      <td>momos</td>\n",
       "      <td>30</td>\n",
       "    </tr>\n",
       "    <tr>\n",
       "      <th>4</th>\n",
       "      <td>abhey</td>\n",
       "      <td>40</td>\n",
       "      <td>momos</td>\n",
       "      <td>50</td>\n",
       "    </tr>\n",
       "  </tbody>\n",
       "</table>\n",
       "</div>"
      ],
      "text/plain": [
       "    names  roll no   fav food   grades\n",
       "0    riya       12  ice-cream       98\n",
       "1  muskan       14  ice-cream       99\n",
       "2   karan        1      pizza       70\n",
       "3    ajay        2      momos       30\n",
       "4   abhey       40      momos       50"
      ]
     },
     "execution_count": 14,
     "metadata": {},
     "output_type": "execute_result"
    }
   ],
   "source": [
    "importdata"
   ]
  },
  {
   "cell_type": "code",
   "execution_count": 15,
   "id": "6bd31056",
   "metadata": {},
   "outputs": [
    {
     "data": {
      "text/plain": [
       "Index(['names', 'roll no', 'fav food', ' grades'], dtype='object')"
      ]
     },
     "execution_count": 15,
     "metadata": {},
     "output_type": "execute_result"
    }
   ],
   "source": [
    "importdata.columns"
   ]
  },
  {
   "cell_type": "code",
   "execution_count": 17,
   "id": "2eda2c67",
   "metadata": {},
   "outputs": [
    {
     "data": {
      "text/html": [
       "<div>\n",
       "<style scoped>\n",
       "    .dataframe tbody tr th:only-of-type {\n",
       "        vertical-align: middle;\n",
       "    }\n",
       "\n",
       "    .dataframe tbody tr th {\n",
       "        vertical-align: top;\n",
       "    }\n",
       "\n",
       "    .dataframe thead th {\n",
       "        text-align: right;\n",
       "    }\n",
       "</style>\n",
       "<table border=\"1\" class=\"dataframe\">\n",
       "  <thead>\n",
       "    <tr style=\"text-align: right;\">\n",
       "      <th></th>\n",
       "      <th>names</th>\n",
       "      <th>roll no</th>\n",
       "      <th>fav food</th>\n",
       "      <th>grades</th>\n",
       "    </tr>\n",
       "  </thead>\n",
       "  <tbody>\n",
       "    <tr>\n",
       "      <th>0</th>\n",
       "      <td>riya</td>\n",
       "      <td>12</td>\n",
       "      <td>ice-cream</td>\n",
       "      <td>98</td>\n",
       "    </tr>\n",
       "    <tr>\n",
       "      <th>1</th>\n",
       "      <td>muskan</td>\n",
       "      <td>14</td>\n",
       "      <td>ice-cream</td>\n",
       "      <td>99</td>\n",
       "    </tr>\n",
       "  </tbody>\n",
       "</table>\n",
       "</div>"
      ],
      "text/plain": [
       "    names  roll no   fav food   grades\n",
       "0    riya       12  ice-cream       98\n",
       "1  muskan       14  ice-cream       99"
      ]
     },
     "execution_count": 17,
     "metadata": {},
     "output_type": "execute_result"
    }
   ],
   "source": [
    "importdata.head(2)"
   ]
  },
  {
   "cell_type": "code",
   "execution_count": 18,
   "id": "c8296ec7",
   "metadata": {},
   "outputs": [
    {
     "data": {
      "text/html": [
       "<div>\n",
       "<style scoped>\n",
       "    .dataframe tbody tr th:only-of-type {\n",
       "        vertical-align: middle;\n",
       "    }\n",
       "\n",
       "    .dataframe tbody tr th {\n",
       "        vertical-align: top;\n",
       "    }\n",
       "\n",
       "    .dataframe thead th {\n",
       "        text-align: right;\n",
       "    }\n",
       "</style>\n",
       "<table border=\"1\" class=\"dataframe\">\n",
       "  <thead>\n",
       "    <tr style=\"text-align: right;\">\n",
       "      <th></th>\n",
       "      <th>names</th>\n",
       "      <th>roll no</th>\n",
       "      <th>fav food</th>\n",
       "      <th>grades</th>\n",
       "    </tr>\n",
       "  </thead>\n",
       "  <tbody>\n",
       "    <tr>\n",
       "      <th>3</th>\n",
       "      <td>ajay</td>\n",
       "      <td>2</td>\n",
       "      <td>momos</td>\n",
       "      <td>30</td>\n",
       "    </tr>\n",
       "    <tr>\n",
       "      <th>4</th>\n",
       "      <td>abhey</td>\n",
       "      <td>40</td>\n",
       "      <td>momos</td>\n",
       "      <td>50</td>\n",
       "    </tr>\n",
       "  </tbody>\n",
       "</table>\n",
       "</div>"
      ],
      "text/plain": [
       "   names  roll no fav food   grades\n",
       "3   ajay        2    momos       30\n",
       "4  abhey       40    momos       50"
      ]
     },
     "execution_count": 18,
     "metadata": {},
     "output_type": "execute_result"
    }
   ],
   "source": [
    "importdata.tail(2)"
   ]
  },
  {
   "cell_type": "code",
   "execution_count": 19,
   "id": "e5acceea",
   "metadata": {},
   "outputs": [
    {
     "data": {
      "text/plain": [
       "5"
      ]
     },
     "execution_count": 19,
     "metadata": {},
     "output_type": "execute_result"
    }
   ],
   "source": [
    "len(importdata)"
   ]
  },
  {
   "cell_type": "code",
   "execution_count": 20,
   "id": "c0e3bd8d",
   "metadata": {},
   "outputs": [
    {
     "data": {
      "text/html": [
       "<div>\n",
       "<style scoped>\n",
       "    .dataframe tbody tr th:only-of-type {\n",
       "        vertical-align: middle;\n",
       "    }\n",
       "\n",
       "    .dataframe tbody tr th {\n",
       "        vertical-align: top;\n",
       "    }\n",
       "\n",
       "    .dataframe thead th {\n",
       "        text-align: right;\n",
       "    }\n",
       "</style>\n",
       "<table border=\"1\" class=\"dataframe\">\n",
       "  <thead>\n",
       "    <tr style=\"text-align: right;\">\n",
       "      <th></th>\n",
       "      <th>names</th>\n",
       "      <th>roll no</th>\n",
       "      <th>fav food</th>\n",
       "      <th>grades</th>\n",
       "    </tr>\n",
       "  </thead>\n",
       "  <tbody>\n",
       "    <tr>\n",
       "      <th>0</th>\n",
       "      <td>riya</td>\n",
       "      <td>12</td>\n",
       "      <td>ice-cream</td>\n",
       "      <td>98</td>\n",
       "    </tr>\n",
       "    <tr>\n",
       "      <th>1</th>\n",
       "      <td>muskan</td>\n",
       "      <td>14</td>\n",
       "      <td>ice-cream</td>\n",
       "      <td>99</td>\n",
       "    </tr>\n",
       "    <tr>\n",
       "      <th>2</th>\n",
       "      <td>karan</td>\n",
       "      <td>1</td>\n",
       "      <td>pizza</td>\n",
       "      <td>70</td>\n",
       "    </tr>\n",
       "    <tr>\n",
       "      <th>3</th>\n",
       "      <td>ajay</td>\n",
       "      <td>2</td>\n",
       "      <td>momos</td>\n",
       "      <td>30</td>\n",
       "    </tr>\n",
       "    <tr>\n",
       "      <th>4</th>\n",
       "      <td>abhey</td>\n",
       "      <td>40</td>\n",
       "      <td>momos</td>\n",
       "      <td>50</td>\n",
       "    </tr>\n",
       "  </tbody>\n",
       "</table>\n",
       "</div>"
      ],
      "text/plain": [
       "    names  roll no   fav food   grades\n",
       "0    riya       12  ice-cream       98\n",
       "1  muskan       14  ice-cream       99\n",
       "2   karan        1      pizza       70\n",
       "3    ajay        2      momos       30\n",
       "4   abhey       40      momos       50"
      ]
     },
     "execution_count": 20,
     "metadata": {},
     "output_type": "execute_result"
    }
   ],
   "source": [
    "importdata"
   ]
  },
  {
   "cell_type": "code",
   "execution_count": 22,
   "id": "1cfa7963",
   "metadata": {},
   "outputs": [
    {
     "data": {
      "text/plain": [
       "69"
      ]
     },
     "execution_count": 22,
     "metadata": {},
     "output_type": "execute_result"
    }
   ],
   "source": [
    "importdata[\"roll no\"].sum()"
   ]
  },
  {
   "cell_type": "code",
   "execution_count": 23,
   "id": "fffecc30",
   "metadata": {},
   "outputs": [
    {
     "data": {
      "text/plain": [
       "names        ajay\n",
       "roll no         2\n",
       "fav food    momos\n",
       " grades        30\n",
       "Name: 3, dtype: object"
      ]
     },
     "execution_count": 23,
     "metadata": {},
     "output_type": "execute_result"
    }
   ],
   "source": [
    "importdata.loc[3]"
   ]
  },
  {
   "cell_type": "code",
   "execution_count": 30,
   "id": "a41f191d",
   "metadata": {},
   "outputs": [
    {
     "data": {
      "text/plain": [
       "2      riya\n",
       "4    muskan\n",
       "1    yellow\n",
       "dtype: object"
      ]
     },
     "execution_count": 30,
     "metadata": {},
     "output_type": "execute_result"
    }
   ],
   "source": [
    "names= pd.Series([\"riya\",\"muskan\",\"yellow\"], index=[2,4,1])\n",
    "names"
   ]
  },
  {
   "cell_type": "code",
   "execution_count": 33,
   "id": "72f3430e",
   "metadata": {},
   "outputs": [
    {
     "data": {
      "text/plain": [
       "'riya'"
      ]
     },
     "execution_count": 33,
     "metadata": {},
     "output_type": "execute_result"
    }
   ],
   "source": [
    "# gives the set location of the index\n",
    "names.loc[2]"
   ]
  },
  {
   "cell_type": "code",
   "execution_count": 34,
   "id": "f980b81f",
   "metadata": {},
   "outputs": [
    {
     "data": {
      "text/plain": [
       "'yellow'"
      ]
     },
     "execution_count": 34,
     "metadata": {},
     "output_type": "execute_result"
    }
   ],
   "source": [
    "# gives the actual location\n",
    "names.iloc[2]"
   ]
  },
  {
   "cell_type": "code",
   "execution_count": 36,
   "id": "ed97bbd7",
   "metadata": {},
   "outputs": [
    {
     "data": {
      "text/plain": [
       "0      riya\n",
       "1    muskan\n",
       "2     karan\n",
       "3      ajay\n",
       "4     abhey\n",
       "Name: names, dtype: object"
      ]
     },
     "execution_count": 36,
     "metadata": {},
     "output_type": "execute_result"
    }
   ],
   "source": [
    "# for each collumn data\n",
    "importdata[\"names\"]"
   ]
  },
  {
   "cell_type": "markdown",
   "id": "9e66d075",
   "metadata": {},
   "source": [
    "## graph representation\n"
   ]
  },
  {
   "cell_type": "code",
   "execution_count": 4,
   "id": "090bc396",
   "metadata": {},
   "outputs": [
    {
     "data": {
      "text/html": [
       "<div>\n",
       "<style scoped>\n",
       "    .dataframe tbody tr th:only-of-type {\n",
       "        vertical-align: middle;\n",
       "    }\n",
       "\n",
       "    .dataframe tbody tr th {\n",
       "        vertical-align: top;\n",
       "    }\n",
       "\n",
       "    .dataframe thead th {\n",
       "        text-align: right;\n",
       "    }\n",
       "</style>\n",
       "<table border=\"1\" class=\"dataframe\">\n",
       "  <thead>\n",
       "    <tr style=\"text-align: right;\">\n",
       "      <th></th>\n",
       "      <th>names</th>\n",
       "      <th>roll no</th>\n",
       "      <th>fav food</th>\n",
       "      <th>grades</th>\n",
       "    </tr>\n",
       "  </thead>\n",
       "  <tbody>\n",
       "    <tr>\n",
       "      <th>0</th>\n",
       "      <td>riya</td>\n",
       "      <td>12</td>\n",
       "      <td>ice-cream</td>\n",
       "      <td>98</td>\n",
       "    </tr>\n",
       "    <tr>\n",
       "      <th>1</th>\n",
       "      <td>muskan</td>\n",
       "      <td>14</td>\n",
       "      <td>ice-cream</td>\n",
       "      <td>99</td>\n",
       "    </tr>\n",
       "    <tr>\n",
       "      <th>2</th>\n",
       "      <td>karan</td>\n",
       "      <td>1</td>\n",
       "      <td>pizza</td>\n",
       "      <td>70</td>\n",
       "    </tr>\n",
       "    <tr>\n",
       "      <th>3</th>\n",
       "      <td>ajay</td>\n",
       "      <td>2</td>\n",
       "      <td>momos</td>\n",
       "      <td>30</td>\n",
       "    </tr>\n",
       "    <tr>\n",
       "      <th>4</th>\n",
       "      <td>abhey</td>\n",
       "      <td>40</td>\n",
       "      <td>momos</td>\n",
       "      <td>50</td>\n",
       "    </tr>\n",
       "  </tbody>\n",
       "</table>\n",
       "</div>"
      ],
      "text/plain": [
       "    names  roll no   fav food   grades\n",
       "0    riya       12  ice-cream       98\n",
       "1  muskan       14  ice-cream       99\n",
       "2   karan        1      pizza       70\n",
       "3    ajay        2      momos       30\n",
       "4   abhey       40      momos       50"
      ]
     },
     "execution_count": 4,
     "metadata": {},
     "output_type": "execute_result"
    }
   ],
   "source": [
    "data = pd.read_csv(\"demo-data.csv\")\n",
    "data"
   ]
  },
  {
   "cell_type": "code",
   "execution_count": 6,
   "id": "7416e79c",
   "metadata": {},
   "outputs": [
    {
     "data": {
      "text/plain": [
       "names       object\n",
       "roll no      int64\n",
       "fav food    object\n",
       " grades      int64\n",
       "dtype: object"
      ]
     },
     "execution_count": 6,
     "metadata": {},
     "output_type": "execute_result"
    }
   ],
   "source": [
    "data.dtypes"
   ]
  },
  {
   "cell_type": "code",
   "execution_count": 12,
   "id": "7fe9c0c9",
   "metadata": {},
   "outputs": [
    {
     "data": {
      "text/plain": [
       "<Axes: >"
      ]
     },
     "execution_count": 12,
     "metadata": {},
     "output_type": "execute_result"
    },
    {
     "data": {
      "image/png": "[encoded data removed]",
      "text/plain": [
       "<Figure size 640x480 with 1 Axes>"
      ]
     },
     "metadata": {},
     "output_type": "display_data"
    }
   ],
   "source": [
    "data[\" grades\"].plot()"
   ]
  },
  {
   "cell_type": "code",
   "execution_count": 10,
   "id": "08d551c1",
   "metadata": {},
   "outputs": [
    {
     "data": {
      "text/plain": [
       "<Axes: >"
      ]
     },
     "execution_count": 10,
     "metadata": {},
     "output_type": "execute_result"
    },
    {
     "data": {
      "image/png": "[encoded data removed]",
      "text/plain": [
       "<Figure size 640x480 with 1 Axes>"
      ]
     },
     "metadata": {},
     "output_type": "display_data"
    }
   ],
   "source": [
    "data[\"roll no\"].hist()"
   ]
  },
  {
   "cell_type": "markdown",
   "id": "69863919",
   "metadata": {},
   "source": [
    "## Manipulating Data"
   ]
  },
  {
   "cell_type": "code",
   "execution_count": 21,
   "id": "6e0f41c6",
   "metadata": {},
   "outputs": [],
   "source": [
    "# upper and lower case\n",
    "data[\"names\"]  = data[\"names\"].str.upper()"
   ]
  },
  {
   "cell_type": "code",
   "execution_count": 22,
   "id": "e063ef99",
   "metadata": {},
   "outputs": [
    {
     "data": {
      "text/html": [
       "<div>\n",
       "<style scoped>\n",
       "    .dataframe tbody tr th:only-of-type {\n",
       "        vertical-align: middle;\n",
       "    }\n",
       "\n",
       "    .dataframe tbody tr th {\n",
       "        vertical-align: top;\n",
       "    }\n",
       "\n",
       "    .dataframe thead th {\n",
       "        text-align: right;\n",
       "    }\n",
       "</style>\n",
       "<table border=\"1\" class=\"dataframe\">\n",
       "  <thead>\n",
       "    <tr style=\"text-align: right;\">\n",
       "      <th></th>\n",
       "      <th>names</th>\n",
       "      <th>roll no</th>\n",
       "      <th>fav food</th>\n",
       "      <th>grades</th>\n",
       "    </tr>\n",
       "  </thead>\n",
       "  <tbody>\n",
       "    <tr>\n",
       "      <th>0</th>\n",
       "      <td>RIYA</td>\n",
       "      <td>12</td>\n",
       "      <td>ice-cream</td>\n",
       "      <td>98</td>\n",
       "    </tr>\n",
       "    <tr>\n",
       "      <th>1</th>\n",
       "      <td>MUSKAN</td>\n",
       "      <td>14</td>\n",
       "      <td>ice-cream</td>\n",
       "      <td>99</td>\n",
       "    </tr>\n",
       "    <tr>\n",
       "      <th>2</th>\n",
       "      <td>KARAN</td>\n",
       "      <td>1</td>\n",
       "      <td>pizza</td>\n",
       "      <td>70</td>\n",
       "    </tr>\n",
       "    <tr>\n",
       "      <th>3</th>\n",
       "      <td>AJAY</td>\n",
       "      <td>2</td>\n",
       "      <td>momos</td>\n",
       "      <td>30</td>\n",
       "    </tr>\n",
       "    <tr>\n",
       "      <th>4</th>\n",
       "      <td>ABHEY</td>\n",
       "      <td>40</td>\n",
       "      <td>momos</td>\n",
       "      <td>50</td>\n",
       "    </tr>\n",
       "  </tbody>\n",
       "</table>\n",
       "</div>"
      ],
      "text/plain": [
       "    names  roll no   fav food   grades\n",
       "0    RIYA       12  ice-cream       98\n",
       "1  MUSKAN       14  ice-cream       99\n",
       "2   KARAN        1      pizza       70\n",
       "3    AJAY        2      momos       30\n",
       "4   ABHEY       40      momos       50"
      ]
     },
     "execution_count": 22,
     "metadata": {},
     "output_type": "execute_result"
    }
   ],
   "source": [
    "data"
   ]
  },
  {
   "cell_type": "code",
   "execution_count": 23,
   "id": "31df20aa",
   "metadata": {},
   "outputs": [
    {
     "data": {
      "text/plain": [
       "13.8"
      ]
     },
     "execution_count": 23,
     "metadata": {},
     "output_type": "execute_result"
    }
   ],
   "source": [
    "data[\"roll no\"].mean()"
   ]
  },
  {
   "cell_type": "markdown",
   "id": "c0a7bdc3",
   "metadata": {},
   "source": [
    "### way to cover up the empty spaces (fillna() or dropna())"
   ]
  },
  {
   "cell_type": "code",
   "execution_count": 27,
   "id": "ddb179e0",
   "metadata": {},
   "outputs": [
    {
     "data": {
      "text/html": [
       "<div>\n",
       "<style scoped>\n",
       "    .dataframe tbody tr th:only-of-type {\n",
       "        vertical-align: middle;\n",
       "    }\n",
       "\n",
       "    .dataframe tbody tr th {\n",
       "        vertical-align: top;\n",
       "    }\n",
       "\n",
       "    .dataframe thead th {\n",
       "        text-align: right;\n",
       "    }\n",
       "</style>\n",
       "<table border=\"1\" class=\"dataframe\">\n",
       "  <thead>\n",
       "    <tr style=\"text-align: right;\">\n",
       "      <th></th>\n",
       "      <th>names</th>\n",
       "      <th>roll no</th>\n",
       "      <th>fav food</th>\n",
       "      <th>grades</th>\n",
       "    </tr>\n",
       "  </thead>\n",
       "  <tbody>\n",
       "    <tr>\n",
       "      <th>0</th>\n",
       "      <td>riya</td>\n",
       "      <td>12</td>\n",
       "      <td>ice-cream</td>\n",
       "      <td>98.0</td>\n",
       "    </tr>\n",
       "    <tr>\n",
       "      <th>1</th>\n",
       "      <td>muskan</td>\n",
       "      <td>14</td>\n",
       "      <td>NaN</td>\n",
       "      <td>99.0</td>\n",
       "    </tr>\n",
       "    <tr>\n",
       "      <th>2</th>\n",
       "      <td>karan</td>\n",
       "      <td>1</td>\n",
       "      <td>pizza</td>\n",
       "      <td>NaN</td>\n",
       "    </tr>\n",
       "    <tr>\n",
       "      <th>3</th>\n",
       "      <td>ajay</td>\n",
       "      <td>2</td>\n",
       "      <td>momos</td>\n",
       "      <td>30.0</td>\n",
       "    </tr>\n",
       "    <tr>\n",
       "      <th>4</th>\n",
       "      <td>abhey</td>\n",
       "      <td>40</td>\n",
       "      <td>NaN</td>\n",
       "      <td>50.0</td>\n",
       "    </tr>\n",
       "  </tbody>\n",
       "</table>\n",
       "</div>"
      ],
      "text/plain": [
       "    names  roll no   fav food   grades\n",
       "0    riya       12  ice-cream     98.0\n",
       "1  muskan       14        NaN     99.0\n",
       "2   karan        1      pizza      NaN\n",
       "3    ajay        2      momos     30.0\n",
       "4   abhey       40        NaN     50.0"
      ]
     },
     "execution_count": 27,
     "metadata": {},
     "output_type": "execute_result"
    }
   ],
   "source": [
    "# way to cover up the empty spaces (fillna() or dropna())\n",
    "missingdata = pd.read_csv(\"demo-data-missing.csv\")\n",
    "missingdata\n"
   ]
  },
  {
   "cell_type": "code",
   "execution_count": 30,
   "id": "60ef96f9",
   "metadata": {},
   "outputs": [
    {
     "data": {
      "text/html": [
       "<div>\n",
       "<style scoped>\n",
       "    .dataframe tbody tr th:only-of-type {\n",
       "        vertical-align: middle;\n",
       "    }\n",
       "\n",
       "    .dataframe tbody tr th {\n",
       "        vertical-align: top;\n",
       "    }\n",
       "\n",
       "    .dataframe thead th {\n",
       "        text-align: right;\n",
       "    }\n",
       "</style>\n",
       "<table border=\"1\" class=\"dataframe\">\n",
       "  <thead>\n",
       "    <tr style=\"text-align: right;\">\n",
       "      <th></th>\n",
       "      <th>names</th>\n",
       "      <th>roll no</th>\n",
       "      <th>fav food</th>\n",
       "      <th>grades</th>\n",
       "    </tr>\n",
       "  </thead>\n",
       "  <tbody>\n",
       "    <tr>\n",
       "      <th>0</th>\n",
       "      <td>riya</td>\n",
       "      <td>12</td>\n",
       "      <td>ice-cream</td>\n",
       "      <td>98.0</td>\n",
       "    </tr>\n",
       "    <tr>\n",
       "      <th>1</th>\n",
       "      <td>muskan</td>\n",
       "      <td>14</td>\n",
       "      <td>100</td>\n",
       "      <td>99.0</td>\n",
       "    </tr>\n",
       "    <tr>\n",
       "      <th>2</th>\n",
       "      <td>karan</td>\n",
       "      <td>1</td>\n",
       "      <td>pizza</td>\n",
       "      <td>100.0</td>\n",
       "    </tr>\n",
       "    <tr>\n",
       "      <th>3</th>\n",
       "      <td>ajay</td>\n",
       "      <td>2</td>\n",
       "      <td>momos</td>\n",
       "      <td>30.0</td>\n",
       "    </tr>\n",
       "    <tr>\n",
       "      <th>4</th>\n",
       "      <td>abhey</td>\n",
       "      <td>40</td>\n",
       "      <td>100</td>\n",
       "      <td>50.0</td>\n",
       "    </tr>\n",
       "  </tbody>\n",
       "</table>\n",
       "</div>"
      ],
      "text/plain": [
       "    names  roll no   fav food   grades\n",
       "0    riya       12  ice-cream     98.0\n",
       "1  muskan       14        100     99.0\n",
       "2   karan        1      pizza    100.0\n",
       "3    ajay        2      momos     30.0\n",
       "4   abhey       40        100     50.0"
      ]
     },
     "execution_count": 30,
     "metadata": {},
     "output_type": "execute_result"
    }
   ],
   "source": [
    "# also assigning the modify data to the original one\n",
    "missingdata[\" grades\"] = missingdata[\" grades\"].fillna(100)\n",
    "missingdata"
   ]
  },
  {
   "cell_type": "code",
   "execution_count": 31,
   "id": "040df616",
   "metadata": {},
   "outputs": [],
   "source": [
    "missingdata = pd.read_csv(\"demo-data-missing.csv\")"
   ]
  },
  {
   "cell_type": "code",
   "execution_count": 34,
   "id": "aa7e9de2",
   "metadata": {},
   "outputs": [],
   "source": [
    "#inplace assigning the modify data to the original one \n",
    "missingdata.dropna(inplace=True)"
   ]
  },
  {
   "cell_type": "code",
   "execution_count": 35,
   "id": "18cc4627",
   "metadata": {},
   "outputs": [
    {
     "data": {
      "text/html": [
       "<div>\n",
       "<style scoped>\n",
       "    .dataframe tbody tr th:only-of-type {\n",
       "        vertical-align: middle;\n",
       "    }\n",
       "\n",
       "    .dataframe tbody tr th {\n",
       "        vertical-align: top;\n",
       "    }\n",
       "\n",
       "    .dataframe thead th {\n",
       "        text-align: right;\n",
       "    }\n",
       "</style>\n",
       "<table border=\"1\" class=\"dataframe\">\n",
       "  <thead>\n",
       "    <tr style=\"text-align: right;\">\n",
       "      <th></th>\n",
       "      <th>names</th>\n",
       "      <th>roll no</th>\n",
       "      <th>fav food</th>\n",
       "      <th>grades</th>\n",
       "    </tr>\n",
       "  </thead>\n",
       "  <tbody>\n",
       "    <tr>\n",
       "      <th>0</th>\n",
       "      <td>riya</td>\n",
       "      <td>12</td>\n",
       "      <td>ice-cream</td>\n",
       "      <td>98.0</td>\n",
       "    </tr>\n",
       "    <tr>\n",
       "      <th>3</th>\n",
       "      <td>ajay</td>\n",
       "      <td>2</td>\n",
       "      <td>momos</td>\n",
       "      <td>30.0</td>\n",
       "    </tr>\n",
       "  </tbody>\n",
       "</table>\n",
       "</div>"
      ],
      "text/plain": [
       "  names  roll no   fav food   grades\n",
       "0  riya       12  ice-cream     98.0\n",
       "3  ajay        2      momos     30.0"
      ]
     },
     "execution_count": 35,
     "metadata": {},
     "output_type": "execute_result"
    }
   ],
   "source": [
    "missingdata"
   ]
  },
  {
   "cell_type": "code",
   "execution_count": 36,
   "id": "646ac6b7",
   "metadata": {},
   "outputs": [],
   "source": [
    "data[\"credit score\"]= pd.Series([1200,200,1500,0])"
   ]
  },
  {
   "cell_type": "code",
   "execution_count": 37,
   "id": "9f91f3a0",
   "metadata": {},
   "outputs": [
    {
     "data": {
      "text/html": [
       "<div>\n",
       "<style scoped>\n",
       "    .dataframe tbody tr th:only-of-type {\n",
       "        vertical-align: middle;\n",
       "    }\n",
       "\n",
       "    .dataframe tbody tr th {\n",
       "        vertical-align: top;\n",
       "    }\n",
       "\n",
       "    .dataframe thead th {\n",
       "        text-align: right;\n",
       "    }\n",
       "</style>\n",
       "<table border=\"1\" class=\"dataframe\">\n",
       "  <thead>\n",
       "    <tr style=\"text-align: right;\">\n",
       "      <th></th>\n",
       "      <th>names</th>\n",
       "      <th>roll no</th>\n",
       "      <th>fav food</th>\n",
       "      <th>grades</th>\n",
       "      <th>credit score</th>\n",
       "    </tr>\n",
       "  </thead>\n",
       "  <tbody>\n",
       "    <tr>\n",
       "      <th>0</th>\n",
       "      <td>RIYA</td>\n",
       "      <td>12</td>\n",
       "      <td>ice-cream</td>\n",
       "      <td>98</td>\n",
       "      <td>1200.0</td>\n",
       "    </tr>\n",
       "    <tr>\n",
       "      <th>1</th>\n",
       "      <td>MUSKAN</td>\n",
       "      <td>14</td>\n",
       "      <td>ice-cream</td>\n",
       "      <td>99</td>\n",
       "      <td>200.0</td>\n",
       "    </tr>\n",
       "    <tr>\n",
       "      <th>2</th>\n",
       "      <td>KARAN</td>\n",
       "      <td>1</td>\n",
       "      <td>pizza</td>\n",
       "      <td>70</td>\n",
       "      <td>1500.0</td>\n",
       "    </tr>\n",
       "    <tr>\n",
       "      <th>3</th>\n",
       "      <td>AJAY</td>\n",
       "      <td>2</td>\n",
       "      <td>momos</td>\n",
       "      <td>30</td>\n",
       "      <td>0.0</td>\n",
       "    </tr>\n",
       "    <tr>\n",
       "      <th>4</th>\n",
       "      <td>ABHEY</td>\n",
       "      <td>40</td>\n",
       "      <td>momos</td>\n",
       "      <td>50</td>\n",
       "      <td>NaN</td>\n",
       "    </tr>\n",
       "  </tbody>\n",
       "</table>\n",
       "</div>"
      ],
      "text/plain": [
       "    names  roll no   fav food   grades  credit score\n",
       "0    RIYA       12  ice-cream       98        1200.0\n",
       "1  MUSKAN       14  ice-cream       99         200.0\n",
       "2   KARAN        1      pizza       70        1500.0\n",
       "3    AJAY        2      momos       30           0.0\n",
       "4   ABHEY       40      momos       50           NaN"
      ]
     },
     "execution_count": 37,
     "metadata": {},
     "output_type": "execute_result"
    }
   ],
   "source": [
    "data"
   ]
  },
  {
   "cell_type": "code",
   "execution_count": 38,
   "id": "a4001b27",
   "metadata": {},
   "outputs": [
    {
     "data": {
      "text/plain": [
       "names            object\n",
       "roll no           int64\n",
       "fav food         object\n",
       " grades           int64\n",
       "credit score    float64\n",
       "dtype: object"
      ]
     },
     "execution_count": 38,
     "metadata": {},
     "output_type": "execute_result"
    }
   ],
   "source": [
    "data.dtypes"
   ]
  },
  {
   "cell_type": "code",
   "execution_count": 41,
   "id": "7c8c377c",
   "metadata": {},
   "outputs": [
    {
     "data": {
      "text/html": [
       "<div>\n",
       "<style scoped>\n",
       "    .dataframe tbody tr th:only-of-type {\n",
       "        vertical-align: middle;\n",
       "    }\n",
       "\n",
       "    .dataframe tbody tr th {\n",
       "        vertical-align: top;\n",
       "    }\n",
       "\n",
       "    .dataframe thead th {\n",
       "        text-align: right;\n",
       "    }\n",
       "</style>\n",
       "<table border=\"1\" class=\"dataframe\">\n",
       "  <thead>\n",
       "    <tr style=\"text-align: right;\">\n",
       "      <th></th>\n",
       "      <th>names</th>\n",
       "      <th>roll no</th>\n",
       "      <th>fav food</th>\n",
       "      <th>grades</th>\n",
       "      <th>credit score</th>\n",
       "      <th>health index</th>\n",
       "    </tr>\n",
       "  </thead>\n",
       "  <tbody>\n",
       "    <tr>\n",
       "      <th>0</th>\n",
       "      <td>RIYA</td>\n",
       "      <td>12</td>\n",
       "      <td>ice-cream</td>\n",
       "      <td>98</td>\n",
       "      <td>1200.0</td>\n",
       "      <td>12</td>\n",
       "    </tr>\n",
       "    <tr>\n",
       "      <th>1</th>\n",
       "      <td>MUSKAN</td>\n",
       "      <td>14</td>\n",
       "      <td>ice-cream</td>\n",
       "      <td>99</td>\n",
       "      <td>200.0</td>\n",
       "      <td>3</td>\n",
       "    </tr>\n",
       "    <tr>\n",
       "      <th>2</th>\n",
       "      <td>KARAN</td>\n",
       "      <td>1</td>\n",
       "      <td>pizza</td>\n",
       "      <td>70</td>\n",
       "      <td>1500.0</td>\n",
       "      <td>4</td>\n",
       "    </tr>\n",
       "    <tr>\n",
       "      <th>3</th>\n",
       "      <td>AJAY</td>\n",
       "      <td>2</td>\n",
       "      <td>momos</td>\n",
       "      <td>30</td>\n",
       "      <td>0.0</td>\n",
       "      <td>5</td>\n",
       "    </tr>\n",
       "    <tr>\n",
       "      <th>4</th>\n",
       "      <td>ABHEY</td>\n",
       "      <td>40</td>\n",
       "      <td>momos</td>\n",
       "      <td>50</td>\n",
       "      <td>NaN</td>\n",
       "      <td>6</td>\n",
       "    </tr>\n",
       "  </tbody>\n",
       "</table>\n",
       "</div>"
      ],
      "text/plain": [
       "    names  roll no   fav food   grades  credit score  health index\n",
       "0    RIYA       12  ice-cream       98        1200.0            12\n",
       "1  MUSKAN       14  ice-cream       99         200.0             3\n",
       "2   KARAN        1      pizza       70        1500.0             4\n",
       "3    AJAY        2      momos       30           0.0             5\n",
       "4   ABHEY       40      momos       50           NaN             6"
      ]
     },
     "execution_count": 41,
     "metadata": {},
     "output_type": "execute_result"
    }
   ],
   "source": [
    "# column in case of python list  , we have to assign it to all the rows, otherwise error will come\n",
    "data[\"health index\"] = [12,3,4,5,6]\n",
    "data"
   ]
  },
  {
   "cell_type": "code",
   "execution_count": 43,
   "id": "e59be453",
   "metadata": {},
   "outputs": [
    {
     "data": {
      "text/html": [
       "<div>\n",
       "<style scoped>\n",
       "    .dataframe tbody tr th:only-of-type {\n",
       "        vertical-align: middle;\n",
       "    }\n",
       "\n",
       "    .dataframe tbody tr th {\n",
       "        vertical-align: top;\n",
       "    }\n",
       "\n",
       "    .dataframe thead th {\n",
       "        text-align: right;\n",
       "    }\n",
       "</style>\n",
       "<table border=\"1\" class=\"dataframe\">\n",
       "  <thead>\n",
       "    <tr style=\"text-align: right;\">\n",
       "      <th></th>\n",
       "      <th>names</th>\n",
       "      <th>roll no</th>\n",
       "      <th>fav food</th>\n",
       "      <th>grades</th>\n",
       "      <th>credit score</th>\n",
       "      <th>health index</th>\n",
       "    </tr>\n",
       "  </thead>\n",
       "  <tbody>\n",
       "    <tr>\n",
       "      <th>1</th>\n",
       "      <td>MUSKAN</td>\n",
       "      <td>14</td>\n",
       "      <td>ice-cream</td>\n",
       "      <td>99</td>\n",
       "      <td>200.0</td>\n",
       "      <td>3</td>\n",
       "    </tr>\n",
       "    <tr>\n",
       "      <th>4</th>\n",
       "      <td>ABHEY</td>\n",
       "      <td>40</td>\n",
       "      <td>momos</td>\n",
       "      <td>50</td>\n",
       "      <td>NaN</td>\n",
       "      <td>6</td>\n",
       "    </tr>\n",
       "  </tbody>\n",
       "</table>\n",
       "</div>"
      ],
      "text/plain": [
       "    names  roll no   fav food   grades  credit score  health index\n",
       "1  MUSKAN       14  ice-cream       99         200.0             3\n",
       "4   ABHEY       40      momos       50           NaN             6"
      ]
     },
     "execution_count": 43,
     "metadata": {},
     "output_type": "execute_result"
    }
   ],
   "source": [
    "# for working upon the same thing\n",
    "data = data.sample(frac=.4)\n",
    "data"
   ]
  },
  {
   "cell_type": "code",
   "execution_count": 44,
   "id": "48b9ee00",
   "metadata": {},
   "outputs": [],
   "source": [
    "# hpy coding"
   ]
  },
  {
   "cell_type": "code",
   "execution_count": null,
   "id": "cb78149f",
   "metadata": {},
   "outputs": [],
   "source": []
  }
 ],
 "metadata": {
  "kernelspec": {
   "display_name": "Python 3 (ipykernel)",
   "language": "python",
   "name": "python3"
  },
  "language_info": {
   "codemirror_mode": {
    "name": "ipython",
    "version": 3
   },
   "file_extension": ".py",
   "mimetype": "text/x-python",
   "name": "python",
   "nbconvert_exporter": "python",
   "pygments_lexer": "ipython3",
   "version": "3.10.12"
  }
 },
 "nbformat": 4,
 "nbformat_minor": 5
}
